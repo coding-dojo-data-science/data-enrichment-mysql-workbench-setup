{
 "cells": [
  {
   "cell_type": "markdown",
   "metadata": {},
   "source": [
    "# Constructing Table of Contents for README"
   ]
  },
  {
   "cell_type": "code",
   "execution_count": 2,
   "metadata": {},
   "outputs": [
    {
     "data": {
      "text/plain": [
       "['01_intro_to_mysql.html',\n",
       " '02_mac_install_my_sql.html',\n",
       " '02_windows_install_mysql.html',\n",
       " '03_mysql_workbench.html',\n",
       " '04_reverse_engineering.html',\n",
       " '05_sql_basic_queries.html',\n",
       " '06_intro_to_joins.html',\n",
       " '07_practice_assignment_queries_world.html',\n",
       " '08_more_sql_joins.html',\n",
       " '09_sql_subqueries.html',\n",
       " '10_practice_assignmen_github_desktop.html',\n",
       " '11_querying_with_mysql.html',\n",
       " '12_core_assignment_sakila.html']"
      ]
     },
     "execution_count": 2,
     "metadata": {},
     "output_type": "execute_result"
    }
   ],
   "source": [
    "## use glob to get all .html files\n",
    "import glob, os\n",
    "html_files = sorted(glob.glob('*.html'))\n",
    "html_files"
   ]
  },
  {
   "cell_type": "markdown",
   "metadata": {},
   "source": [
    "The format for a clickable link is: \n",
    "`[display text](file path)`"
   ]
  },
  {
   "cell_type": "code",
   "execution_count": 5,
   "metadata": {},
   "outputs": [
    {
     "data": {
      "text/plain": [
       "'01_intro_to_mysql.html'"
      ]
     },
     "execution_count": 5,
     "metadata": {},
     "output_type": "execute_result"
    }
   ],
   "source": [
    "## save test filename\n",
    "filename = html_files[0]\n",
    "filename"
   ]
  },
  {
   "cell_type": "code",
   "execution_count": 13,
   "metadata": {},
   "outputs": [
    {
     "data": {
      "text/plain": [
       "'01_intro_to_mysql'"
      ]
     },
     "execution_count": 13,
     "metadata": {},
     "output_type": "execute_result"
    }
   ],
   "source": [
    "## get the filename without extension\n",
    "name  = os.path.splitext(filename)[0]\n",
    "name"
   ]
  },
  {
   "cell_type": "code",
   "execution_count": 17,
   "metadata": {},
   "outputs": [
    {
     "data": {
      "text/plain": [
       "'01 Intro To Mysql'"
      ]
     },
     "execution_count": 17,
     "metadata": {},
     "output_type": "execute_result"
    }
   ],
   "source": [
    "## prettifying the name\n",
    "name.replace('_',' ').title()"
   ]
  },
  {
   "cell_type": "code",
   "execution_count": 19,
   "metadata": {},
   "outputs": [
    {
     "data": {
      "text/plain": [
       "dict_keys(['01 Intro To Mysql', '02 Mac Install My Sql', '02 Windows Install Mysql', '03 Mysql Workbench', '04 Reverse Engineering', '05 Sql Basic Queries', '06 Intro To Joins', '07 Practice Assignment Queries World', '08 More Sql Joins', '09 Sql Subqueries', '10 Practice Assignmen Github Desktop', '11 Querying With Mysql', '12 Core Assignment Sakila'])"
      ]
     },
     "execution_count": 19,
     "metadata": {},
     "output_type": "execute_result"
    }
   ],
   "source": [
    "## use loop to save links\n",
    "links = {}\n",
    "for filename in html_files:\n",
    "\t## saving nicely formatter name\n",
    "\tname  = os.path.splitext(filename)[0]\n",
    "\tkey = name.replace('_',' ').title()\n",
    "\t\n",
    "\tlinks[key] = filename\n",
    "\t\n",
    "links.keys()\n",
    "\t\n",
    "\t"
   ]
  },
  {
   "cell_type": "code",
   "execution_count": 26,
   "metadata": {},
   "outputs": [],
   "source": [
    "md_text = []\n",
    "for k, v in links.items():\n",
    "\t#[display text](file path)\n",
    "\tmd_text.append(f\"- [{k}]({v})\")"
   ]
  },
  {
   "cell_type": "code",
   "execution_count": 27,
   "metadata": {},
   "outputs": [
    {
     "name": "stdout",
     "output_type": "stream",
     "text": [
      "- [01 Intro To Mysql](01_intro_to_mysql.html)\n",
      "- [02 Mac Install My Sql](02_mac_install_my_sql.html)\n",
      "- [02 Windows Install Mysql](02_windows_install_mysql.html)\n",
      "- [03 Mysql Workbench](03_mysql_workbench.html)\n",
      "- [04 Reverse Engineering](04_reverse_engineering.html)\n",
      "- [05 Sql Basic Queries](05_sql_basic_queries.html)\n",
      "- [06 Intro To Joins](06_intro_to_joins.html)\n",
      "- [07 Practice Assignment Queries World](07_practice_assignment_queries_world.html)\n",
      "- [08 More Sql Joins](08_more_sql_joins.html)\n",
      "- [09 Sql Subqueries](09_sql_subqueries.html)\n",
      "- [10 Practice Assignmen Github Desktop](10_practice_assignmen_github_desktop.html)\n",
      "- [11 Querying With Mysql](11_querying_with_mysql.html)\n",
      "- [12 Core Assignment Sakila](12_core_assignment_sakila.html)\n"
     ]
    }
   ],
   "source": [
    "print('\\n'.join(md_text))"
   ]
  },
  {
   "cell_type": "code",
   "execution_count": null,
   "metadata": {},
   "outputs": [],
   "source": []
  }
 ],
 "metadata": {
  "interpreter": {
   "hash": "b845722829c79bbf497493aa3194d1bad9695a17cf09fbf37d73742ed9500022"
  },
  "kernelspec": {
   "display_name": "Python 3.7.12 ('dojo-env')",
   "language": "python",
   "name": "python3"
  },
  "language_info": {
   "codemirror_mode": {
    "name": "ipython",
    "version": 3
   },
   "file_extension": ".py",
   "mimetype": "text/x-python",
   "name": "python",
   "nbconvert_exporter": "python",
   "pygments_lexer": "ipython3",
   "version": "3.7.12"
  },
  "orig_nbformat": 4
 },
 "nbformat": 4,
 "nbformat_minor": 2
}
